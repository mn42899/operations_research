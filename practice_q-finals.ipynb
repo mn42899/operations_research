{
 "cells": [
  {
   "cell_type": "code",
   "execution_count": 1,
   "metadata": {},
   "outputs": [],
   "source": [
    "import gurobipy as gp\n",
    "from gurobipy import GRB\n",
    "import pandas as pd\n",
    "import numpy as np"
   ]
  },
  {
   "cell_type": "code",
   "execution_count": 2,
   "metadata": {},
   "outputs": [],
   "source": [
    "covariances = pd.read_csv('https://raw.githubusercontent.com/mn42899/operations_research/refs/heads/main/Covariances.csv')\n",
    "means = pd.read_csv('https://raw.githubusercontent.com/mn42899/operations_research/refs/heads/main/Means.csv')\n",
    "trees = pd.read_csv('https://raw.githubusercontent.com/mn42899/operations_research/refs/heads/main/Trees.csv')"
   ]
  },
  {
   "cell_type": "markdown",
   "metadata": {},
   "source": [
    "# QUESTION 1 - TREES"
   ]
  },
  {
   "cell_type": "markdown",
   "metadata": {},
   "source": [
    "The 50 million tree program is a tree planting charity whose mandate is to increase forest cover in\n",
    "Ontario. As of 2020, more than 30 million trees have been planted. This year, the organization made\n",
    "a big push to acquire funding so that they could plant 10 million trees in 2022. There are a total of\n",
    "18 potential planting locations in Ontario but it remains to determine which sites should be chosen.\n",
    "There is a fee per location that is incurred if planting site i = 1, ..., 18 is chosen and there is a cost\n",
    "associated with planting each tree (see the file Trees.csv for more information). Unfortunately, due\n",
    "to the Conservation Authorities Act of Ontario, many intricate laws must be adhered to.\n",
    "- Between 103,000 and 970,000 trees can be planted at any location if selected.\n",
    "- At most two planting location can be chosen amongst the sites 1, 2, 3, and 4.\n",
    "- Exactly three planting locations must be chosen amongst the sites 6, 9, 12, 15, and 18.\n",
    "- No more than 4 planting locations must be chosen among sites 2, 4, 6, 8, 12, 14, 16, and 18.\n",
    "- If planting location 5 is chosen then the sites 6, 7, and 8 cannot be chosen.\n",
    "- If planting location 9 is chosen then at least two of sites 13, 15, and 17 must be chosen.\n",
    "- The sum of all trees planted at sites 1-9 must equal the sum of all trees planted at sites 10-18.\n",
    "\n",
    "Formulate a MILP model to minimize the sum of costs related to planting the 10 million trees while\n",
    "respecting the legal requirements in the Conservation Act. Then, answer the following 10 questions."
   ]
  },
  {
   "cell_type": "markdown",
   "metadata": {},
   "source": [
    "A) Without solving the MILP, what is the minimum number of planting locations given the maximum number of trees that can be planted at any location?"
   ]
  },
  {
   "cell_type": "markdown",
   "metadata": {},
   "source": [
    "B) Does the objective contain fixed costs only, variable costs only, or both?"
   ]
  },
  {
   "cell_type": "markdown",
   "metadata": {},
   "source": [
    "C) Write down the constraints associated with linking the integer and binary decision variables."
   ]
  },
  {
   "cell_type": "markdown",
   "metadata": {},
   "source": [
    "D) If there were no legal requirements (the Conservation Authorities Act constraints), what location(s) would you choose to plant the trees in order to minimize cost?"
   ]
  },
  {
   "cell_type": "markdown",
   "metadata": {},
   "source": [
    "E) Write down the constraints associated with planting locations 9, 13, 15, and 17."
   ]
  },
  {
   "cell_type": "markdown",
   "metadata": {},
   "source": [
    "F)How many decision variables are in the formulation?"
   ]
  },
  {
   "cell_type": "markdown",
   "metadata": {},
   "source": [
    "G) What is the optimal planting cost?"
   ]
  },
  {
   "cell_type": "markdown",
   "metadata": {},
   "source": [
    "H) How many planting locations are used?"
   ]
  },
  {
   "cell_type": "markdown",
   "metadata": {},
   "source": [
    "I) How many trees are planted at location 1?"
   ]
  },
  {
   "cell_type": "markdown",
   "metadata": {},
   "source": [
    "J) Would it be worth it to negotiate a contract such that the charity pays a fixed fee of $200,000 per location but could plant between 103,000 and 970,000 trees without any other costs?"
   ]
  },
  {
   "cell_type": "markdown",
   "metadata": {},
   "source": []
  },
  {
   "cell_type": "markdown",
   "metadata": {},
   "source": [
    "# QUESTION 2 - PUFF DONUTS"
   ]
  },
  {
   "cell_type": "markdown",
   "metadata": {},
   "source": []
  },
  {
   "cell_type": "markdown",
   "metadata": {},
   "source": [
    "# QUESTION 3 - MEANS"
   ]
  },
  {
   "cell_type": "markdown",
   "metadata": {},
   "source": []
  },
  {
   "cell_type": "markdown",
   "metadata": {},
   "source": [
    "# QUESTION 4 - CRUISES"
   ]
  }
 ],
 "metadata": {
  "kernelspec": {
   "display_name": "Python 3",
   "language": "python",
   "name": "python3"
  },
  "language_info": {
   "codemirror_mode": {
    "name": "ipython",
    "version": 3
   },
   "file_extension": ".py",
   "mimetype": "text/x-python",
   "name": "python",
   "nbconvert_exporter": "python",
   "pygments_lexer": "ipython3",
   "version": "3.12.8"
  }
 },
 "nbformat": 4,
 "nbformat_minor": 2
}

{
 "cells": [
  {
   "cell_type": "code",
   "execution_count": 2,
   "metadata": {},
   "outputs": [],
   "source": [
    "import gurobipy as gp\n",
    "from gurobipy import GRB\n",
    "import pandas as pd\n",
    "import numpy as np"
   ]
  },
  {
   "cell_type": "code",
   "execution_count": 3,
   "metadata": {},
   "outputs": [],
   "source": [
    "covariances = pd.read_csv('https://raw.githubusercontent.com/mn42899/operations_research/refs/heads/main/Covariances.csv')\n",
    "means = pd.read_csv('https://raw.githubusercontent.com/mn42899/operations_research/refs/heads/main/Means.csv')\n",
    "trees = pd.read_csv('https://raw.githubusercontent.com/mn42899/operations_research/refs/heads/main/Trees.csv')"
   ]
  },
  {
   "cell_type": "markdown",
   "metadata": {},
   "source": [
    "# QUESTION 1 - TREES"
   ]
  },
  {
   "cell_type": "markdown",
   "metadata": {},
   "source": [
    "The 50 million tree program is a tree planting charity whose mandate is to increase forest cover in\n",
    "Ontario. As of 2020, more than 30 million trees have been planted. This year, the organization made\n",
    "a big push to acquire funding so that they could plant 10 million trees in 2022. There are a total of\n",
    "18 potential planting locations in Ontario but it remains to determine which sites should be chosen.\n",
    "There is a fee per location that is incurred if planting site i = 1, ..., 18 is chosen and there is a cost\n",
    "associated with planting each tree (see the file Trees.csv for more information). Unfortunately, due\n",
    "to the Conservation Authorities Act of Ontario, many intricate laws must be adhered to.\n",
    "- Between 103,000 and 970,000 trees can be planted at any location if selected.\n",
    "- At most two planting location can be chosen amongst the sites 1, 2, 3, and 4.\n",
    "- Exactly three planting locations must be chosen amongst the sites 6, 9, 12, 15, and 18.\n",
    "- No more than 4 planting locations must be chosen among sites 2, 4, 6, 8, 12, 14, 16, and 18.\n",
    "- If planting location 5 is chosen then the sites 6, 7, and 8 cannot be chosen.\n",
    "- If planting location 9 is chosen then at least two of sites 13, 15, and 17 must be chosen.\n",
    "- The sum of all trees planted at sites 1-9 must equal the sum of all trees planted at sites 10-18.\n",
    "\n",
    "Formulate a MILP model to minimize the sum of costs related to planting the 10 million trees while\n",
    "respecting the legal requirements in the Conservation Act. Then, answer the following 10 questions."
   ]
  },
  {
   "cell_type": "code",
   "execution_count": 4,
   "metadata": {},
   "outputs": [
    {
     "data": {
      "text/html": [
       "<div>\n",
       "<style scoped>\n",
       "    .dataframe tbody tr th:only-of-type {\n",
       "        vertical-align: middle;\n",
       "    }\n",
       "\n",
       "    .dataframe tbody tr th {\n",
       "        vertical-align: top;\n",
       "    }\n",
       "\n",
       "    .dataframe thead th {\n",
       "        text-align: right;\n",
       "    }\n",
       "</style>\n",
       "<table border=\"1\" class=\"dataframe\">\n",
       "  <thead>\n",
       "    <tr style=\"text-align: right;\">\n",
       "      <th></th>\n",
       "      <th>Cost Per Location</th>\n",
       "      <th>Planting Cost Per Tree</th>\n",
       "    </tr>\n",
       "  </thead>\n",
       "  <tbody>\n",
       "    <tr>\n",
       "      <th>0</th>\n",
       "      <td>25000</td>\n",
       "      <td>0.40</td>\n",
       "    </tr>\n",
       "    <tr>\n",
       "      <th>1</th>\n",
       "      <td>25000</td>\n",
       "      <td>0.40</td>\n",
       "    </tr>\n",
       "    <tr>\n",
       "      <th>2</th>\n",
       "      <td>25000</td>\n",
       "      <td>0.40</td>\n",
       "    </tr>\n",
       "    <tr>\n",
       "      <th>3</th>\n",
       "      <td>25000</td>\n",
       "      <td>0.35</td>\n",
       "    </tr>\n",
       "    <tr>\n",
       "      <th>4</th>\n",
       "      <td>25000</td>\n",
       "      <td>0.35</td>\n",
       "    </tr>\n",
       "    <tr>\n",
       "      <th>5</th>\n",
       "      <td>25000</td>\n",
       "      <td>0.35</td>\n",
       "    </tr>\n",
       "    <tr>\n",
       "      <th>6</th>\n",
       "      <td>25000</td>\n",
       "      <td>0.30</td>\n",
       "    </tr>\n",
       "    <tr>\n",
       "      <th>7</th>\n",
       "      <td>25000</td>\n",
       "      <td>0.30</td>\n",
       "    </tr>\n",
       "    <tr>\n",
       "      <th>8</th>\n",
       "      <td>25000</td>\n",
       "      <td>0.30</td>\n",
       "    </tr>\n",
       "    <tr>\n",
       "      <th>9</th>\n",
       "      <td>50000</td>\n",
       "      <td>0.25</td>\n",
       "    </tr>\n",
       "    <tr>\n",
       "      <th>10</th>\n",
       "      <td>50000</td>\n",
       "      <td>0.25</td>\n",
       "    </tr>\n",
       "    <tr>\n",
       "      <th>11</th>\n",
       "      <td>50000</td>\n",
       "      <td>0.25</td>\n",
       "    </tr>\n",
       "    <tr>\n",
       "      <th>12</th>\n",
       "      <td>50000</td>\n",
       "      <td>0.20</td>\n",
       "    </tr>\n",
       "    <tr>\n",
       "      <th>13</th>\n",
       "      <td>50000</td>\n",
       "      <td>0.20</td>\n",
       "    </tr>\n",
       "    <tr>\n",
       "      <th>14</th>\n",
       "      <td>50000</td>\n",
       "      <td>0.20</td>\n",
       "    </tr>\n",
       "    <tr>\n",
       "      <th>15</th>\n",
       "      <td>50000</td>\n",
       "      <td>0.15</td>\n",
       "    </tr>\n",
       "    <tr>\n",
       "      <th>16</th>\n",
       "      <td>50000</td>\n",
       "      <td>0.15</td>\n",
       "    </tr>\n",
       "    <tr>\n",
       "      <th>17</th>\n",
       "      <td>50000</td>\n",
       "      <td>0.15</td>\n",
       "    </tr>\n",
       "  </tbody>\n",
       "</table>\n",
       "</div>"
      ],
      "text/plain": [
       "    Cost Per Location  Planting Cost Per Tree\n",
       "0               25000                    0.40\n",
       "1               25000                    0.40\n",
       "2               25000                    0.40\n",
       "3               25000                    0.35\n",
       "4               25000                    0.35\n",
       "5               25000                    0.35\n",
       "6               25000                    0.30\n",
       "7               25000                    0.30\n",
       "8               25000                    0.30\n",
       "9               50000                    0.25\n",
       "10              50000                    0.25\n",
       "11              50000                    0.25\n",
       "12              50000                    0.20\n",
       "13              50000                    0.20\n",
       "14              50000                    0.20\n",
       "15              50000                    0.15\n",
       "16              50000                    0.15\n",
       "17              50000                    0.15"
      ]
     },
     "execution_count": 4,
     "metadata": {},
     "output_type": "execute_result"
    }
   ],
   "source": [
    "trees"
   ]
  },
  {
   "cell_type": "code",
   "execution_count": 6,
   "metadata": {},
   "outputs": [
    {
     "name": "stdout",
     "output_type": "stream",
     "text": [
      "Gurobi Optimizer version 12.0.0 build v12.0.0rc1 (mac64[arm] - Darwin 23.5.0 23F79)\n",
      "\n",
      "CPU model: Apple M3\n",
      "Thread count: 8 physical cores, 8 logical processors, using up to 8 threads\n",
      "\n",
      "Optimize a model with 45 rows, 36 columns and 136 nonzeros\n",
      "Model fingerprint: 0xb8f8cef1\n",
      "Variable types: 18 continuous, 18 integer (18 binary)\n",
      "Coefficient statistics:\n",
      "  Matrix range     [1e+00, 1e+06]\n",
      "  Objective range  [1e-01, 5e+04]\n",
      "  Bounds range     [1e+00, 1e+00]\n",
      "  RHS range        [1e+00, 1e+07]\n",
      "Presolve time: 0.00s\n",
      "Presolved: 45 rows, 36 columns, 136 nonzeros\n",
      "Variable types: 18 continuous, 18 integer (18 binary)\n",
      "\n",
      "Root relaxation: objective 2.909098e+06, 30 iterations, 0.00 seconds (0.00 work units)\n",
      "\n",
      "    Nodes    |    Current Node    |     Objective Bounds      |     Work\n",
      " Expl Unexpl |  Obj  Depth IntInf | Incumbent    BestBd   Gap | It/Node Time\n",
      "\n",
      "     0     0 2909097.94    0    2          - 2909097.94      -     -    0s\n",
      "H    0     0                    2972500.0000 2909097.94  2.13%     -    0s\n",
      "     0     0 2926365.98    0    6 2972500.00 2926365.98  1.55%     -    0s\n",
      "     0     0 2926365.98    0    5 2972500.00 2926365.98  1.55%     -    0s\n",
      "     0     0 2926814.99    0    6 2972500.00 2926814.99  1.54%     -    0s\n",
      "     0     0 2951365.98    0    3 2972500.00 2951365.98  0.71%     -    0s\n",
      "\n",
      "Cutting planes:\n",
      "  Gomory: 2\n",
      "  MIR: 1\n",
      "  Flow cover: 3\n",
      "  Inf proof: 1\n",
      "\n",
      "Explored 1 nodes (49 simplex iterations) in 0.02 seconds (0.00 work units)\n",
      "Thread count was 8 (of 8 available processors)\n",
      "\n",
      "Solution count 1: 2.9725e+06 \n",
      "\n",
      "Optimal solution found (tolerance 1.00e-04)\n",
      "Best objective 2.972500000000e+06, best bound 2.972500000000e+06, gap 0.0000%\n",
      "\n",
      "✅ Optimal Cost: $2,972,500.00\n",
      "  Site 1: 150,000 trees\n",
      "  Site 3: 970,000 trees\n",
      "  Site 5: 970,000 trees\n",
      "  Site 7: 970,000 trees\n",
      "  Site 8: 970,000 trees\n",
      "  Site 9: 970,000 trees\n",
      "  Site 11: 150,000 trees\n",
      "  Site 14: 970,000 trees\n",
      "  Site 15: 970,000 trees\n",
      "  Site 16: 970,000 trees\n",
      "  Site 17: 970,000 trees\n",
      "  Site 18: 970,000 trees\n"
     ]
    }
   ],
   "source": [
    "import gurobipy as gp\n",
    "from gurobipy import GRB\n",
    "\n",
    "def solve_tree_planting_debug():\n",
    "    # Constants\n",
    "    num_sites = 18\n",
    "    total_trees = 10_000_000\n",
    "    tree_min = 103_000\n",
    "    tree_max = 970_000\n",
    "\n",
    "    location_costs = [\n",
    "        25000, 25000, 25000, 25000, 25000, 25000,\n",
    "        25000, 25000, 25000, 50000, 50000, 50000,\n",
    "        50000, 50000, 50000, 50000, 50000, 50000\n",
    "    ]\n",
    "\n",
    "    cost_per_tree = [\n",
    "        0.40, 0.40, 0.40, 0.35, 0.35, 0.35,\n",
    "        0.30, 0.30, 0.30, 0.25, 0.25, 0.25,\n",
    "        0.20, 0.20, 0.20, 0.15, 0.15, 0.15\n",
    "    ]\n",
    "\n",
    "    # Create model\n",
    "    m = gp.Model(\"TreePlanting\")\n",
    "\n",
    "    # Decision variables\n",
    "    x = m.addVars(num_sites, vtype=GRB.BINARY, name=\"PlantHere\")  # Whether to plant at site i\n",
    "    t = m.addVars(num_sites, vtype=GRB.CONTINUOUS, name=\"TreesPlanted\", lb=0)  # # trees at site i\n",
    "\n",
    "    # Objective function\n",
    "    m.setObjective(\n",
    "        gp.quicksum(location_costs[i] * x[i] + cost_per_tree[i] * t[i] for i in range(num_sites)),\n",
    "        GRB.MINIMIZE\n",
    "    )\n",
    "\n",
    "    # Total trees planted = 10M\n",
    "    m.addConstr(gp.quicksum(t[i] for i in range(num_sites)) == total_trees, \"TotalTrees\")\n",
    "\n",
    "    # Tree limits at each site only if selected\n",
    "    for i in range(num_sites):\n",
    "        m.addConstr(t[i] >= tree_min * x[i], f\"MinTrees_site{i+1}\")\n",
    "        m.addConstr(t[i] <= tree_max * x[i], f\"MaxTrees_site{i+1}\")\n",
    "\n",
    "    # Constraint groups with clear labels\n",
    "    m.addConstr(gp.quicksum(x[i] for i in [0, 1, 2, 3]) <= 2, \"AtMost2_from_1_2_3_4\")\n",
    "    m.addConstr(gp.quicksum(x[i] for i in [5, 6, 9, 12, 15, 17]) == 3, \"Exactly3_from_6_9_12_15_18\")\n",
    "    m.addConstr(gp.quicksum(x[i] for i in [1, 3, 5, 7, 11, 13, 15, 17]) <= 4, \"AtMost4_from_select\")\n",
    "\n",
    "    # Site 5 exclusion logic\n",
    "    m.addConstr(x[5] + x[6] <= 1, \"MutualExclusion_5_6\")\n",
    "    m.addConstr(x[5] + x[7] <= 1, \"MutualExclusion_5_7\")\n",
    "    m.addConstr(x[5] + x[8] <= 1, \"MutualExclusion_5_8\")\n",
    "\n",
    "    # If site 9 is selected, then at least two of 13,15,17 must be\n",
    "    m.addConstr(x[12] + x[14] + x[16] >= 2 * x[8], \"If9Then2of13_15_17\")\n",
    "\n",
    "    # Tree balance between sites 1–9 and 10–18\n",
    "    m.addConstr(\n",
    "        gp.quicksum(t[i] for i in range(0, 9)) == gp.quicksum(t[i] for i in range(9, num_sites)),\n",
    "        \"Balance_Region_1to9_vs_10to18\"\n",
    "    )\n",
    "\n",
    "    # Try solving\n",
    "    m.optimize()\n",
    "\n",
    "    if m.status == GRB.INFEASIBLE:\n",
    "        print(\"\\nModel is infeasible. Computing IIS to identify conflicting constraints...\")\n",
    "        m.computeIIS()\n",
    "        m.write(\"treeplanting_debug.ilp\")  # writes the IIS subset to a file\n",
    "\n",
    "        print(\"Infeasible constraints:\")\n",
    "        for c in m.getConstrs():\n",
    "            if c.IISConstr:\n",
    "                print(f\" -> {c.constrName}\")\n",
    "    elif m.status == GRB.OPTIMAL:\n",
    "        print(f\"\\n✅ Optimal Cost: ${m.objVal:,.2f}\")\n",
    "        for i in range(num_sites):\n",
    "            if x[i].X > 0.5:\n",
    "                print(f\"  Site {i+1}: {t[i].X:,.0f} trees\")\n",
    "    else:\n",
    "        print(\"\\nModel was neither optimal nor infeasible. Status:\", m.status)\n",
    "\n",
    "if __name__ == \"__main__\":\n",
    "    solve_tree_planting_debug()"
   ]
  },
  {
   "cell_type": "markdown",
   "metadata": {},
   "source": [
    "## A) Without solving the MILP, what is the minimum number of planting locations given the maximum number of trees that can be planted at any location?"
   ]
  },
  {
   "cell_type": "markdown",
   "metadata": {},
   "source": [
    "11 planting locations are required if each selected site plants the maximum of 970,000 trees."
   ]
  },
  {
   "cell_type": "markdown",
   "metadata": {},
   "source": [
    "## B) Does the objective contain fixed costs only, variable costs only, or both?"
   ]
  },
  {
   "cell_type": "markdown",
   "metadata": {},
   "source": [
    "Both fixed and variable costs are included in the objective function."
   ]
  },
  {
   "cell_type": "markdown",
   "metadata": {},
   "source": [
    "## C) Write down the constraints associated with linking the integer and binary decision variables."
   ]
  },
  {
   "cell_type": "markdown",
   "metadata": {},
   "source": [
    "103,000 · xᵢ ≤ tᵢ ≤ 970,000 · xᵢ   for all i = 1 to 18"
   ]
  },
  {
   "cell_type": "markdown",
   "metadata": {},
   "source": [
    "## D) If there were no legal requirements (the Conservation Authorities Act constraints), what location(s) would you choose to plant the trees in order to minimize cost?"
   ]
  },
  {
   "cell_type": "markdown",
   "metadata": {},
   "source": [
    "## E) Write down the constraints associated with planting locations 9, 13, 15, and 17."
   ]
  },
  {
   "cell_type": "markdown",
   "metadata": {},
   "source": [
    "If location 9 is selected, then at least two of the locations 13, 15, and 17 must also be selected.\n",
    "\t•\tMathematically:\n",
    "x_{13} + x_{15} + x_{17} \\geq 2 \\cdot x_9"
   ]
  },
  {
   "cell_type": "markdown",
   "metadata": {},
   "source": [
    "## F) How many decision variables are in the formulation?"
   ]
  },
  {
   "cell_type": "markdown",
   "metadata": {},
   "source": [
    "There are 36 decision variables in total:\n",
    "\t•\t18 binary variables: x_1, x_2, …, x_{18} (whether to plant at each location)\n",
    "\t•\t18 continuous variables: t_1, t_2, …, t_{18} (number of trees planted at each location)\n",
    "\n",
    "So the answer is: 36 decision variables."
   ]
  },
  {
   "cell_type": "markdown",
   "metadata": {},
   "source": [
    "## G) What is the optimal planting cost?"
   ]
  },
  {
   "cell_type": "markdown",
   "metadata": {},
   "source": []
  },
  {
   "cell_type": "markdown",
   "metadata": {},
   "source": [
    "## H) How many planting locations are used?"
   ]
  },
  {
   "cell_type": "markdown",
   "metadata": {},
   "source": [
    "12 planting locations were used."
   ]
  },
  {
   "cell_type": "markdown",
   "metadata": {},
   "source": [
    "## I) How many trees are planted at location 1?"
   ]
  },
  {
   "cell_type": "markdown",
   "metadata": {},
   "source": [
    "150,000"
   ]
  },
  {
   "cell_type": "markdown",
   "metadata": {},
   "source": [
    "## J) Would it be worth it to negotiate a contract such that the charity pays a fixed fee of $200,000 per location but could plant between 103,000 and 970,000 trees without any other costs?"
   ]
  },
  {
   "cell_type": "markdown",
   "metadata": {},
   "source": [
    "- In the original optimal solution, the total cost was $2,972,500 using 12 locations.\n",
    "- Under the proposed deal, the charity would pay:\n",
    "12 locations x $200,000 = $2,400,000\n",
    "\t•\tThat’s a savings of $572,500.\n",
    "\n",
    "So yes — if the charity could negotiate a deal where they pay only $200,000 per site with no per-tree cost, it would be cheaper than the original plan."
   ]
  },
  {
   "cell_type": "markdown",
   "metadata": {},
   "source": [
    "# QUESTION 2 - PUFF DONUTS"
   ]
  },
  {
   "cell_type": "markdown",
   "metadata": {},
   "source": []
  },
  {
   "cell_type": "markdown",
   "metadata": {},
   "source": [
    "# QUESTION 3 - MEANS"
   ]
  },
  {
   "cell_type": "markdown",
   "metadata": {},
   "source": []
  },
  {
   "cell_type": "markdown",
   "metadata": {},
   "source": [
    "# QUESTION 4 - CRUISES"
   ]
  }
 ],
 "metadata": {
  "kernelspec": {
   "display_name": "Python 3",
   "language": "python",
   "name": "python3"
  },
  "language_info": {
   "codemirror_mode": {
    "name": "ipython",
    "version": 3
   },
   "file_extension": ".py",
   "mimetype": "text/x-python",
   "name": "python",
   "nbconvert_exporter": "python",
   "pygments_lexer": "ipython3",
   "version": "3.12.8"
  }
 },
 "nbformat": 4,
 "nbformat_minor": 2
}

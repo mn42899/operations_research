{
 "cells": [
  {
   "cell_type": "code",
   "execution_count": 1,
   "metadata": {},
   "outputs": [],
   "source": [
    "import gurobipy as gp\n",
    "from gurobipy import GRB\n",
    "import pandas as pd"
   ]
  },
  {
   "cell_type": "code",
   "execution_count": 2,
   "metadata": {},
   "outputs": [],
   "source": [
    "# Load the dataset\n",
    "hotels_df = pd.read_csv('https://raw.githubusercontent.com/kristxna/Datasets/refs/heads/main/hotels.csv')"
   ]
  },
  {
   "cell_type": "code",
   "execution_count": 3,
   "metadata": {},
   "outputs": [
    {
     "data": {
      "text/plain": [
       "Index(['Room_ID', 'Floor', 'Square_Feet', 'Cleaning_Time_Hours'], dtype='object')"
      ]
     },
     "execution_count": 3,
     "metadata": {},
     "output_type": "execute_result"
    }
   ],
   "source": [
    "hotels_df.columns"
   ]
  },
  {
   "cell_type": "code",
   "execution_count": 4,
   "metadata": {},
   "outputs": [
    {
     "data": {
      "text/html": [
       "<div>\n",
       "<style scoped>\n",
       "    .dataframe tbody tr th:only-of-type {\n",
       "        vertical-align: middle;\n",
       "    }\n",
       "\n",
       "    .dataframe tbody tr th {\n",
       "        vertical-align: top;\n",
       "    }\n",
       "\n",
       "    .dataframe thead th {\n",
       "        text-align: right;\n",
       "    }\n",
       "</style>\n",
       "<table border=\"1\" class=\"dataframe\">\n",
       "  <thead>\n",
       "    <tr style=\"text-align: right;\">\n",
       "      <th></th>\n",
       "      <th>Room_ID</th>\n",
       "      <th>Floor</th>\n",
       "      <th>Square_Feet</th>\n",
       "      <th>Cleaning_Time_Hours</th>\n",
       "    </tr>\n",
       "  </thead>\n",
       "  <tbody>\n",
       "    <tr>\n",
       "      <th>0</th>\n",
       "      <td>1</td>\n",
       "      <td>3</td>\n",
       "      <td>682</td>\n",
       "      <td>1.814545</td>\n",
       "    </tr>\n",
       "    <tr>\n",
       "      <th>1</th>\n",
       "      <td>2</td>\n",
       "      <td>9</td>\n",
       "      <td>223</td>\n",
       "      <td>0.562727</td>\n",
       "    </tr>\n",
       "    <tr>\n",
       "      <th>2</th>\n",
       "      <td>3</td>\n",
       "      <td>7</td>\n",
       "      <td>506</td>\n",
       "      <td>1.334545</td>\n",
       "    </tr>\n",
       "    <tr>\n",
       "      <th>3</th>\n",
       "      <td>4</td>\n",
       "      <td>1</td>\n",
       "      <td>561</td>\n",
       "      <td>1.484545</td>\n",
       "    </tr>\n",
       "    <tr>\n",
       "      <th>4</th>\n",
       "      <td>5</td>\n",
       "      <td>14</td>\n",
       "      <td>424</td>\n",
       "      <td>1.110909</td>\n",
       "    </tr>\n",
       "  </tbody>\n",
       "</table>\n",
       "</div>"
      ],
      "text/plain": [
       "   Room_ID  Floor  Square_Feet  Cleaning_Time_Hours\n",
       "0        1      3          682             1.814545\n",
       "1        2      9          223             0.562727\n",
       "2        3      7          506             1.334545\n",
       "3        4      1          561             1.484545\n",
       "4        5     14          424             1.110909"
      ]
     },
     "execution_count": 4,
     "metadata": {},
     "output_type": "execute_result"
    }
   ],
   "source": [
    "hotels_df.head()"
   ]
  },
  {
   "cell_type": "code",
   "execution_count": 5,
   "metadata": {},
   "outputs": [
    {
     "name": "stdout",
     "output_type": "stream",
     "text": [
      "\n",
      "=================== Original Optimization Model ===================\n",
      "Set parameter Username\n",
      "Set parameter LicenseID to value 2609994\n",
      "Academic license - for non-commercial use only - expires 2026-01-14\n",
      "Gurobi Optimizer version 12.0.0 build v12.0.0rc1 (mac64[x86] - Darwin 24.1.0 24B83)\n",
      "\n",
      "CPU model: Intel(R) Core(TM) i5-8257U CPU @ 1.40GHz\n",
      "Thread count: 4 physical cores, 8 logical processors, using up to 8 threads\n",
      "\n",
      "Optimize a model with 500 rows, 5952 columns and 2320 nonzeros\n",
      "Model fingerprint: 0xb2dab0e2\n",
      "Variable types: 0 continuous, 5952 integer (5944 binary)\n",
      "Coefficient statistics:\n",
      "  Matrix range     [6e-01, 1e+04]\n",
      "  Objective range  [4e+01, 8e+01]\n",
      "  Bounds range     [1e+00, 2e+00]\n",
      "  RHS range        [1e+00, 4e+03]\n",
      "Found heuristic solution: objective 4287.5000000\n",
      "Presolve removed 0 rows and 5408 columns\n",
      "Presolve time: 0.01s\n",
      "Presolved: 500 rows, 544 columns, 2320 nonzeros\n",
      "Variable types: 0 continuous, 544 integer (536 binary)\n",
      "\n",
      "Root relaxation: objective 2.860511e+03, 577 iterations, 0.01 seconds (0.01 work units)\n",
      "\n",
      "    Nodes    |    Current Node    |     Objective Bounds      |     Work\n",
      " Expl Unexpl |  Obj  Depth IntInf | Incumbent    BestBd   Gap | It/Node Time\n",
      "\n",
      "     0     0 2860.51136    0   62 4287.50000 2860.51136  33.3%     -    0s\n",
      "H    0     0                    3150.0000000 2860.51136  9.19%     -    0s\n",
      "H    0     0                    3112.5000000 2860.51136  8.10%     -    0s\n",
      "H    0     0                    3100.0000000 2860.51136  7.73%     -    0s\n",
      "H    0     0                    3062.5000000 2860.51136  6.60%     -    0s\n",
      "     0     0 2860.51136    0  127 3062.50000 2860.51136  6.60%     -    0s\n",
      "     0     0 2860.51136    0  115 3062.50000 2860.51136  6.60%     -    0s\n",
      "     0     0 2860.51136    0  102 3062.50000 2860.51136  6.60%     -    0s\n",
      "     0     0 2860.51136    0  106 3062.50000 2860.51136  6.60%     -    0s\n",
      "     0     0 2860.51136    0   67 3062.50000 2860.51136  6.60%     -    0s\n",
      "     0     0 2860.51136    0   93 3062.50000 2860.51136  6.60%     -    0s\n",
      "     0     0 2860.51136    0  112 3062.50000 2860.51136  6.60%     -    0s\n",
      "     0     0 2860.51136    0  112 3062.50000 2860.51136  6.60%     -    0s\n",
      "     0     2 2860.51136    0   83 3062.50000 2860.51136  6.60%     -    0s\n",
      "H   44    42                    3025.0000000 2860.51136  5.44%   202    0s\n",
      "H  110   105                    2987.5000000 2860.51136  4.25%   111    0s\n",
      "H  369   228                    2950.0000000 2860.51136  3.03%  70.4    0s\n",
      "  1553   801 2909.08073   34  115 2950.00000 2875.00000  2.54%  75.6    5s\n",
      "\n",
      "Cutting planes:\n",
      "  Gomory: 4\n",
      "  Lift-and-project: 1\n",
      "  Cover: 1\n",
      "  Implied bound: 1\n",
      "  MIR: 5\n",
      "  StrongCG: 3\n",
      "  Flow cover: 1\n",
      "  RLT: 3\n",
      "\n",
      "Explored 1955 nodes (190902 simplex iterations) in 6.89 seconds (4.90 work units)\n",
      "Thread count was 8 (of 8 available processors)\n",
      "\n",
      "Solution count 8: 2950 2987.5 3025 ... 4287.5\n",
      "\n",
      "Optimal solution found (tolerance 1.00e-04)\n",
      "Best objective 2.950000000000e+03, best bound 2.950000000000e+03, gap 0.0000%\n",
      "Binary floor assignment constraint verified\n",
      "Optimal Staffing Cost for the Day: 2950.0\n",
      "Total Overtime Hours: 4.0\n",
      "Total Floor Violations: 0\n",
      "Attendant 1: Floors [3, 9], Overtime: 1.0 hours, Total Sqft Cleaned: 3371.0, Total Wage: $237.50\n",
      "Attendant 2: Floors [14, 2], Overtime: 0 hours, Total Sqft Cleaned: 2876.0, Total Wage: $200.00\n",
      "Attendant 3: Floors [13, 5], Overtime: 1.0 hours, Total Sqft Cleaned: 3343.0, Total Wage: $237.50\n",
      "Attendant 4: Floors [10, 6], Overtime: 0 hours, Total Sqft Cleaned: 2657.0, Total Wage: $200.00\n",
      "Attendant 5: Floors [13, 8], Overtime: 1.0 hours, Total Sqft Cleaned: 3264.0, Total Wage: $237.50\n",
      "Attendant 6: Floors [1, 11], Overtime: 1.0 hours, Total Sqft Cleaned: 3393.0, Total Wage: $237.50\n",
      "Attendant 7: Floors [7, 12], Overtime: 0 hours, Total Sqft Cleaned: 3046.0, Total Wage: $200.00\n",
      "Attendant 8: Floors [4, 12], Overtime: 0 hours, Total Sqft Cleaned: 2975.0, Total Wage: $200.00\n"
     ]
    }
   ],
   "source": [
    "print(\"\\n=================== Original Optimization Model ===================\")\n",
    "# Part (a) to (e) build optimization model\n",
    "\n",
    "# Extract relevant data\n",
    "floors = hotels_df['Floor'].unique()\n",
    "rooms = hotels_df['Room_ID'].unique()\n",
    "num_attendants = 8\n",
    "max_sqft_per_day = 3500\n",
    "max_overtime_hours = 2\n",
    "base_wage = 25\n",
    "extra_floor_cost = 75\n",
    "\n",
    "def get_room_data():\n",
    "    room_data = {}\n",
    "    for _, row in hotels_df.iterrows():\n",
    "        floor, room, sqft, time = row['Floor'], row['Room_ID'], row['Square_Feet'], row['Cleaning_Time_Hours']\n",
    "        if floor not in room_data:\n",
    "            room_data[floor] = []\n",
    "        room_data[floor].append((room, sqft, time))\n",
    "    return room_data\n",
    "\n",
    "room_data = get_room_data()\n",
    "\n",
    "# Initialize model \n",
    "model = gp.Model(\"Hotel Cleaning Scheduling\")\n",
    "\n",
    "# Decision Variables\n",
    "x = model.addVars(num_attendants, floors, rooms, vtype=GRB.BINARY, name=\"Assign\")  # Whether attendant i cleans room j on floor k\n",
    "f = model.addVars(num_attendants, floors, vtype=GRB.BINARY, name=\"FloorAssign\")  # Whether attendant is assigned to a floor\n",
    "overtime = model.addVars(num_attendants, vtype=GRB.INTEGER, lb=0, ub=max_overtime_hours, name=\"Overtime\")  # Overtime hours\n",
    "over_sqft = model.addVars(num_attendants, vtype=GRB.BINARY, name=\"OverSqft\")  # If attendant cleans more than 3500 sqft\n",
    "\n",
    "# Objective Function: Minimize cost\n",
    "model.setObjective(\n",
    "    gp.quicksum(base_wage * 8 + 1.5 * base_wage * overtime[i] + extra_floor_cost * gp.quicksum(f[i, k] for k in floors) \n",
    "                + 2 * base_wage * over_sqft[i] for i in range(num_attendants)), GRB.MINIMIZE)\n",
    "\n",
    "# Constraints\n",
    "# Ensure all rooms are assigned to one attendant\n",
    "for k in floors:\n",
    "    for j in room_data[k]:\n",
    "        model.addConstr(gp.quicksum(x[i, k, j[0]] for i in range(num_attendants)) == 1, f\"RoomAssignment_{k}_{j[0]}\")\n",
    "\n",
    "# Floor assignment consistency\n",
    "for i in range(num_attendants):\n",
    "    for k in floors:\n",
    "        for j in room_data[k]:\n",
    "            model.addConstr(x[i, k, j[0]] <= f[i, k], f\"FloorConsistency_{i}_{k}_{j[0]}\")\n",
    "\n",
    "# Each attendant cleans between 2 to 4 floors\n",
    "for i in range(num_attendants):\n",
    "    model.addConstr(gp.quicksum(f[i, k] for k in floors) >= 2, f\"MinFloors_{i}\")\n",
    "    model.addConstr(gp.quicksum(f[i, k] for k in floors) <= 4, f\"MaxFloors_{i}\")\n",
    "\n",
    "# Ensure attendants do not exceed 3500 sqft before extra pay applies\n",
    "for i in range(num_attendants):\n",
    "    model.addConstr(gp.quicksum(x[i, k, j[0]] * j[1] for k in floors for j in room_data[k]) <= max_sqft_per_day + over_sqft[i] * 10000, f\"SqFtLimit_{i}\")\n",
    "\n",
    "# Ensure attendants work within 8 hours with a maximum of 2 overtime hours\n",
    "for i in range(num_attendants):\n",
    "    model.addConstr(gp.quicksum(x[i, k, j[0]] * j[2] for k in floors for j in room_data[k]) <= 8 + overtime[i], f\"WorkHours_{i}\")\n",
    "\n",
    "\n",
    "# Solve the model\n",
    "model.optimize()\n",
    "\n",
    "# Check that fik = 1 when at least one room is assigned on floor k\n",
    "for i in range(num_attendants):\n",
    "    for k in floors:\n",
    "        assigned_rooms = [j[0] for j in room_data[k] if x[i, k, j[0]].x > 0.5]\n",
    "        if assigned_rooms:  # Check if any rooms were assigned\n",
    "            assert f[i, k].x == 1, f\"Error: f[{i},{k}] should be 1 but is {f[i, k].x}\"\n",
    "print(\"Binary floor assignment constraint verified\")\n",
    "\n",
    "# Display results\n",
    "if model.status == GRB.OPTIMAL:\n",
    "    total_overtime = sum(overtime[i].x for i in range(num_attendants))\n",
    "    total_floor_violations = sum(max(0, sum(f[i, k].x for k in floors) - 2) for i in range(num_attendants))\n",
    "    print(f\"Optimal Staffing Cost for the Day: {model.objVal}\")\n",
    "    print(f\"Total Overtime Hours: {total_overtime}\")\n",
    "    print(f\"Total Floor Violations: {total_floor_violations}\")\n",
    "\n",
    "    for i in range(num_attendants):\n",
    "        assigned_floors = [k for k in floors if f[i, k].x > 0.5]\n",
    "        num_floors = len(assigned_floors)\n",
    "        total_sqft_cleaned = sum(x[i, k, j[0]].x * j[1] for k in floors for j in room_data[k])\n",
    "        overtime_hours = max(0, overtime[i].x)\n",
    "\n",
    "        # Wage Calculation\n",
    "        base_pay = base_wage * 8  # Fixed daily pay\n",
    "        overtime_pay = 1.5 * base_wage * overtime_hours  # Overtime pay\n",
    "        extra_floor_pay = extra_floor_cost * max(0, num_floors - 2)  # Extra pay for more than 2 floors\n",
    "        extra_sqft_pay = 2 * base_wage * (total_sqft_cleaned > max_sqft_per_day)  # Double pay if > 3500 sqft\n",
    "\n",
    "        total_wage = base_pay + overtime_pay + extra_floor_pay + extra_sqft_pay  # Sum of all pay components\n",
    "\n",
    "        formatted_floors = \", \".join(str(int(k)) for k in assigned_floors)\n",
    "        print(f\"Attendant {i+1}: Floors [{formatted_floors}], Overtime: {overtime_hours} hours, \"\n",
    "              f\"Total Sqft Cleaned: {total_sqft_cleaned}, Total Wage: ${total_wage:.2f}\")\n",
    "else:\n",
    "    print(\"No optimal solution found.\")"
   ]
  },
  {
   "cell_type": "code",
   "execution_count": 6,
   "metadata": {},
   "outputs": [
    {
     "name": "stdout",
     "output_type": "stream",
     "text": [
      "\n",
      "=================== Relaxed Model ===================\n",
      "Gurobi Optimizer version 12.0.0 build v12.0.0rc1 (mac64[x86] - Darwin 24.1.0 24B83)\n",
      "\n",
      "CPU model: Intel(R) Core(TM) i5-8257U CPU @ 1.40GHz\n",
      "Thread count: 4 physical cores, 8 logical processors, using up to 8 threads\n",
      "\n",
      "Optimize a model with 500 rows, 5952 columns and 2320 nonzeros\n",
      "Model fingerprint: 0xcce92f88\n",
      "Coefficient statistics:\n",
      "  Matrix range     [6e-01, 1e+04]\n",
      "  Objective range  [4e+01, 8e+01]\n",
      "  Bounds range     [1e+00, 2e+00]\n",
      "  RHS range        [1e+00, 4e+03]\n",
      "Presolve removed 8 rows and 5408 columns\n",
      "Presolve time: 0.01s\n",
      "Presolved: 492 rows, 552 columns, 2216 nonzeros\n",
      "\n",
      "Iteration    Objective       Primal Inf.    Dual Inf.      Time\n",
      "       0    2.8605114e+03   0.000000e+00   0.000000e+00      0s\n",
      "\n",
      "Use crossover to convert LP symmetric solution to basic solution...\n",
      "Crossover log...\n",
      "\n",
      "       0 DPushes remaining with DInf 0.0000000e+00                 0s\n",
      "\n",
      "     468 PPushes remaining with PInf 0.0000000e+00                 0s\n",
      "       0 PPushes remaining with PInf 0.0000000e+00                 0s\n",
      "\n",
      "  Push phase complete: Pinf 0.0000000e+00, Dinf 1.1785017e-12      0s\n",
      "\n",
      "Iteration    Objective       Primal Inf.    Dual Inf.      Time\n",
      "     471    2.8605114e+03   0.000000e+00   0.000000e+00      0s\n",
      "\n",
      "Solved in 471 iterations and 0.04 seconds (0.00 work units)\n",
      "Optimal objective  2.860511364e+03\n",
      "(f) Relaxed Model Cost: 2860.511363636364\n"
     ]
    }
   ],
   "source": [
    "# (f) Model relaxation\n",
    "print(\"\\n=================== Relaxed Model ===================\")\n",
    "relaxed_model = model.relax()\n",
    "relaxed_model.optimize()\n",
    "if relaxed_model.status == GRB.OPTIMAL:\n",
    "    print(\"(f) Relaxed Model Cost:\", relaxed_model.objVal)"
   ]
  },
  {
   "cell_type": "code",
   "execution_count": 7,
   "metadata": {},
   "outputs": [
    {
     "name": "stdout",
     "output_type": "stream",
     "text": [
      "\n",
      "=================== Manually Relaxed Model ===================\n",
      "Gurobi Optimizer version 12.0.0 build v12.0.0rc1 (mac64[x86] - Darwin 24.1.0 24B83)\n",
      "\n",
      "CPU model: Intel(R) Core(TM) i5-8257U CPU @ 1.40GHz\n",
      "Thread count: 4 physical cores, 8 logical processors, using up to 8 threads\n",
      "\n",
      "Optimize a model with 500 rows, 5952 columns and 2320 nonzeros\n",
      "Model fingerprint: 0xcce92f88\n",
      "Coefficient statistics:\n",
      "  Matrix range     [6e-01, 1e+04]\n",
      "  Objective range  [4e+01, 8e+01]\n",
      "  Bounds range     [1e+00, 2e+00]\n",
      "  RHS range        [1e+00, 4e+03]\n",
      "Presolve removed 8 rows and 5408 columns\n",
      "Presolve time: 0.01s\n",
      "Presolved: 492 rows, 552 columns, 2216 nonzeros\n",
      "\n",
      "Iteration    Objective       Primal Inf.    Dual Inf.      Time\n",
      "       0    2.8605114e+03   0.000000e+00   0.000000e+00      0s\n",
      "\n",
      "Use crossover to convert LP symmetric solution to basic solution...\n",
      "Crossover log...\n",
      "\n",
      "       0 DPushes remaining with DInf 0.0000000e+00                 0s\n",
      "\n",
      "     468 PPushes remaining with PInf 0.0000000e+00                 0s\n",
      "       0 PPushes remaining with PInf 0.0000000e+00                 0s\n",
      "\n",
      "  Push phase complete: Pinf 0.0000000e+00, Dinf 1.1785017e-12      0s\n",
      "\n",
      "Iteration    Objective       Primal Inf.    Dual Inf.      Time\n",
      "     471    2.8605114e+03   0.000000e+00   0.000000e+00      0s\n",
      "\n",
      "Solved in 471 iterations and 0.03 seconds (0.00 work units)\n",
      "Optimal objective  2.860511364e+03\n",
      "Manually Relaxed Solution Cost: 2860.511363636364\n"
     ]
    }
   ],
   "source": [
    "# Part (g) Convert binary to continuous and solve manually relaxed problem\n",
    "print(\"\\n=================== Manually Relaxed Model ===================\")\n",
    "for v in model.getVars():\n",
    "    v.vtype = GRB.CONTINUOUS\n",
    "model.optimize()\n",
    "print(f\"Manually Relaxed Solution Cost: {model.objVal}\")"
   ]
  },
  {
   "cell_type": "code",
   "execution_count": 8,
   "metadata": {},
   "outputs": [
    {
     "name": "stdout",
     "output_type": "stream",
     "text": [
      "Binary Model Cost: 2860.511363636364\n",
      "Relaxed Model Cost: 2860.511363636364\n"
     ]
    }
   ],
   "source": [
    "print(f\"Binary Model Cost: {model.objVal}\")\n",
    "print(f\"Relaxed Model Cost: {relaxed_model.objVal}\")"
   ]
  },
  {
   "cell_type": "code",
   "execution_count": 9,
   "metadata": {},
   "outputs": [
    {
     "name": "stdout",
     "output_type": "stream",
     "text": [
      "Before 2x Overtime: Cost = 2860.511363636364, Overtime Hours = 4.0, Floor Violations = 0\n"
     ]
    }
   ],
   "source": [
    "print(f\"Before 2x Overtime: Cost = {model.objVal}, Overtime Hours = {total_overtime}, Floor Violations = {total_floor_violations}\")"
   ]
  },
  {
   "cell_type": "code",
   "execution_count": 10,
   "metadata": {},
   "outputs": [
    {
     "name": "stdout",
     "output_type": "stream",
     "text": [
      "\n",
      "=================== Updated Model with 2x Overtime Pay ===================\n",
      "Gurobi Optimizer version 12.0.0 build v12.0.0rc1 (mac64[x86] - Darwin 24.1.0 24B83)\n",
      "\n",
      "CPU model: Intel(R) Core(TM) i5-8257U CPU @ 1.40GHz\n",
      "Thread count: 4 physical cores, 8 logical processors, using up to 8 threads\n",
      "\n",
      "Optimize a model with 500 rows, 5952 columns and 2320 nonzeros\n",
      "Coefficient statistics:\n",
      "  Matrix range     [6e-01, 1e+04]\n",
      "  Objective range  [5e+01, 2e+02]\n",
      "  Bounds range     [1e+00, 2e+00]\n",
      "  RHS range        [1e+00, 4e+03]\n",
      "LP warm-start: use basis\n",
      "\n",
      "Iteration    Objective       Primal Inf.    Dual Inf.      Time\n",
      "       0    2.8806818e+03   0.000000e+00   0.000000e+00      0s\n",
      "\n",
      "Solved in 0 iterations and 0.02 seconds (0.00 work units)\n",
      "Optimal objective  2.880681818e+03\n",
      "Updated Overtime Multiplier (2x): 2880.681818181819\n"
     ]
    }
   ],
   "source": [
    "# Part (i) Adjust overtime multiplier to 2.0 and re-optimize\n",
    "print(\"\\n=================== Updated Model with 2x Overtime Pay ===================\")\n",
    "\n",
    "overtime_multiplier = 2.0\n",
    "model.setObjective(\n",
    "    gp.quicksum(base_wage * (8 + overtime_multiplier * overtime[i]) for i in range(num_attendants)) +\n",
    "    gp.quicksum(extra_floor_cost * gp.quicksum(f[i, k] for k in floors) for i in range(num_attendants)) +\n",
    "    gp.quicksum(base_wage * 8 * over_sqft[i] for i in range(num_attendants)),\n",
    "    GRB.MINIMIZE\n",
    ")\n",
    "model.optimize()\n",
    "print(f\"Updated Overtime Multiplier (2x): {model.objVal}\")"
   ]
  },
  {
   "cell_type": "code",
   "execution_count": 11,
   "metadata": {},
   "outputs": [
    {
     "name": "stdout",
     "output_type": "stream",
     "text": [
      "After 2x Overtime: Cost = 2880.681818181819\n"
     ]
    }
   ],
   "source": [
    "print(f\"After 2x Overtime: Cost = {model.objVal}\")"
   ]
  }
 ],
 "metadata": {
  "kernelspec": {
   "display_name": "Python 3",
   "language": "python",
   "name": "python3"
  },
  "language_info": {
   "codemirror_mode": {
    "name": "ipython",
    "version": 3
   },
   "file_extension": ".py",
   "mimetype": "text/x-python",
   "name": "python",
   "nbconvert_exporter": "python",
   "pygments_lexer": "ipython3",
   "version": "3.12.4"
  }
 },
 "nbformat": 4,
 "nbformat_minor": 2
}
